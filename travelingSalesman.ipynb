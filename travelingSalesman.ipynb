{
 "cells": [
  {
   "cell_type": "code",
   "execution_count": 1,
   "metadata": {},
   "outputs": [],
   "source": [
    "import pandas as pd\n",
    "import math\n",
    "import random"
   ]
  },
  {
   "cell_type": "code",
   "execution_count": 2,
   "metadata": {},
   "outputs": [],
   "source": [
    "airports = pd.read_csv('airports.csv', sep=',')"
   ]
  },
  {
   "cell_type": "code",
   "execution_count": 3,
   "metadata": {},
   "outputs": [],
   "source": [
    "airports['n/s'].replace('N',1.0,inplace=True)\n",
    "airports['e/w'].replace('W',-1.0,inplace=True)"
   ]
  },
  {
   "cell_type": "code",
   "execution_count": 4,
   "metadata": {},
   "outputs": [],
   "source": [
    "def coor_to_radians(degrees,minutes,seconds,hem):\n",
    "    return (degrees + minutes/60.0 + seconds/3600.0)*hem*math.pi/180 "
   ]
  },
  {
   "cell_type": "code",
   "execution_count": 5,
   "metadata": {},
   "outputs": [],
   "source": [
    "airports['latitude'] = coor_to_radians(airports['lat_deg'],airports['lat_min'],airports['lat_sec'],airports['n/s'])\n",
    "airports['longitude'] = coor_to_radians(airports['lon_deg'],airports['lon_min'],airports['lon_sec'],airports['e/w'])"
   ]
  },
  {
   "cell_type": "code",
   "execution_count": 6,
   "metadata": {},
   "outputs": [],
   "source": [
    "def haversine(phi1,lambda1,phi2,lambda2):\n",
    "    return 2*3959.0*math.asin(math.sqrt(hav(phi2-phi1)+math.cos(phi1)*math.cos(phi2)*hav(lambda2-lambda1)))"
   ]
  },
  {
   "cell_type": "code",
   "execution_count": 7,
   "metadata": {},
   "outputs": [],
   "source": [
    "def hav(theta):\n",
    "    return (1.0 - math.cos(theta))/2.0"
   ]
  },
  {
   "cell_type": "code",
   "execution_count": 8,
   "metadata": {},
   "outputs": [
    {
     "name": "stdout",
     "output_type": "stream",
     "text": [
      "130332.83739048184 [18, 31, 24, 34, 27, 33, 7, 11, 15, 35, 20, 39, 10, 19, 23, 42, 49, 50, 21, 45, 8, 9, 32, 40, 30, 28, 43, 2, 29, 16, 0, 44, 6, 5, 25, 37, 12, 36, 41, 48, 46, 14, 47, 4, 1, 3, 38, 17, 13, 22, 26]\n"
     ]
    }
   ],
   "source": [
    "tour = list(airports.index)\n",
    "\n",
    "random.shuffle(tour)\n",
    "\n",
    "distance = 0.0\n",
    "for i in range(len(tour)-1):\n",
    "    distance += haversine(airports['latitude'][tour[i]],airports['longitude'][tour[i]],\n",
    "                          airports['latitude'][tour[i+1]],airports['longitude'][tour[i+1]])\n",
    "    \n",
    "    distance += haversine(airports['latitude'][tour[len(tour)-1]],airports['longitude'][tour[len(tour)-1]],\n",
    "                          airports['latitude'][tour[0]],airports['longitude'][tour[0]])\n",
    "\n",
    "print(distance,tour)"
   ]
  },
  {
   "cell_type": "code",
   "execution_count": 9,
   "metadata": {},
   "outputs": [],
   "source": [
    "c = tour\n",
    "\n",
    "for i in range(100000):\n",
    "    \n",
    "    d = 0.0\n",
    "    \n",
    "    i = random.randint(0,50)\n",
    "    j = random.randint(0,50)\n",
    "    c[j],c[i] = c[i],c[j]\n",
    "    \n",
    "    for i in range(len(c)-1):\n",
    "        d += haversine(airports['latitude'][c[i]],airports['longitude'][c[i]],\n",
    "                          airports['latitude'][c[i+1]],airports['longitude'][c[i+1]])\n",
    "    \n",
    "    d += haversine(airports['latitude'][c[len(c)-1]],airports['longitude'][c[len(c)-1]],\n",
    "                          airports['latitude'][c[0]],airports['longitude'][c[0]])\n",
    "    \n",
    "    if d < distance:\n",
    "        tour = c\n",
    "        distance = d\n",
    "    else: \n",
    "        c[j],c[i] = c[i],c[j]\n"
   ]
  },
  {
   "cell_type": "code",
   "execution_count": 10,
   "metadata": {},
   "outputs": [
    {
     "name": "stdout",
     "output_type": "stream",
     "text": [
      "44751.87307059927\n",
      "Columbus\n",
      "Tallahassee\n",
      "Sacramento\n",
      "Denver\n",
      "Montgomery\n",
      "Hartford\n",
      "Saint Paul\n",
      "Baton Rouge\n",
      "Cheyenne\n",
      "Oklahoma City\n",
      "Phoenix\n",
      "Topeka\n",
      "Providence\n",
      "Salt Lake City\n",
      "Reno\n",
      "Helena\n",
      "Madison\n",
      "Montpelier\n",
      "Juneau\n",
      "Nashville\n",
      "Olympia\n",
      "Honolulu\n",
      "Raleigh\n",
      "Lincoln\n",
      "Bismarck\n",
      "Little Rock\n",
      "Austin\n",
      "Jefferson\n",
      "Concord\n",
      "Pierre\n",
      "Trenton\n",
      "Harrisburg\n",
      "Richmond\n",
      "Boise\n",
      "Albany\n",
      "Lansing\n",
      "Springfield\n",
      "Baltimore\n",
      "Des Moines\n",
      "Jackson\n",
      "Charleston\n",
      "Columbia\n",
      "Dover\n",
      "Augusta\n",
      "Santa Fe\n",
      "Washington\n",
      "Lexington\n",
      "Boston\n",
      "Salem\n",
      "Atlanta\n",
      "Indianapolis\n"
     ]
    }
   ],
   "source": [
    "print(distance)\n",
    "for i in tour:\n",
    "    print(airports['city'][i])"
   ]
  }
 ],
 "metadata": {
  "kernelspec": {
   "display_name": "Python 3",
   "language": "python",
   "name": "python3"
  },
  "language_info": {
   "codemirror_mode": {
    "name": "ipython",
    "version": 3
   },
   "file_extension": ".py",
   "mimetype": "text/x-python",
   "name": "python",
   "nbconvert_exporter": "python",
   "pygments_lexer": "ipython3",
   "version": "3.6.4"
  }
 },
 "nbformat": 4,
 "nbformat_minor": 2
}
