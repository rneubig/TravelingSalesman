{
 "cells": [
  {
   "cell_type": "code",
   "execution_count": 29,
   "metadata": {},
   "outputs": [],
   "source": [
    "# import libraries\n",
    "\n",
    "import pandas as pd\n",
    "import math\n",
    "import random\n",
    "import csv\n",
    "import matplotlib.pyplot as plt\n",
    "%matplotlib inline "
   ]
  },
  {
   "cell_type": "code",
   "execution_count": 30,
   "metadata": {},
   "outputs": [],
   "source": [
    "# Load csv of US state capitol airport locations\n",
    "\n",
    "airports = pd.read_csv('airports.csv', sep=',')"
   ]
  },
  {
   "cell_type": "code",
   "execution_count": 31,
   "metadata": {},
   "outputs": [],
   "source": [
    "airports['n/s'].replace('N',1.0,inplace=True)\n",
    "airports['n/s'].replace('S',-1.0,inplace=True)\n",
    "airports['e/w'].replace('E',1.0,inplace=True)\n",
    "airports['e/w'].replace('W',-1.0,inplace=True)"
   ]
  },
  {
   "cell_type": "code",
   "execution_count": 32,
   "metadata": {},
   "outputs": [],
   "source": [
    "def coor_to_radians(degrees,minutes,seconds,hem):\n",
    "    return (degrees + minutes/60.0 + seconds/3600.0)*hem*math.pi/180 "
   ]
  },
  {
   "cell_type": "code",
   "execution_count": 33,
   "metadata": {},
   "outputs": [],
   "source": [
    "# Convert coordinates to radians for each airport\n",
    "\n",
    "airports['latitude'] = coor_to_radians(airports['lat_deg'],airports['lat_min'],airports['lat_sec'],airports['n/s'])\n",
    "airports['longitude'] = coor_to_radians(airports['lon_deg'],airports['lon_min'],airports['lon_sec'],airports['e/w'])"
   ]
  },
  {
   "cell_type": "code",
   "execution_count": 34,
   "metadata": {},
   "outputs": [],
   "source": [
    "# Haversine function converts coordinates to cacluate great circle distance.  Radius of Earch is 3959 miles\n",
    "\n",
    "def haversine(phi1,lambda1,phi2,lambda2):\n",
    "    return 2*3959.0*math.asin(math.sqrt(hav(phi2-phi1)+math.cos(phi1)*math.cos(phi2)*hav(lambda2-lambda1)))"
   ]
  },
  {
   "cell_type": "code",
   "execution_count": 35,
   "metadata": {},
   "outputs": [],
   "source": [
    "def hav(theta):\n",
    "    return (1.0 - math.cos(theta))/2.0"
   ]
  },
  {
   "cell_type": "code",
   "execution_count": 36,
   "metadata": {},
   "outputs": [],
   "source": [
    "# Create list of indexes and randomly shuffle list\n",
    "\n",
    "tour = list(airports.index)\n",
    "random.shuffle(tour)"
   ]
  },
  {
   "cell_type": "code",
   "execution_count": 41,
   "metadata": {},
   "outputs": [
    {
     "name": "stdout",
     "output_type": "stream",
     "text": [
      "74324.7561833868 [40, 43, 36, 14, 1, 25, 10, 11, 8, 2, 35, 21, 24, 34, 13, 19, 9, 26, 44, 28, 50, 16, 42, 3, 20, 27, 15, 37, 7, 17, 6, 23, 39, 38, 29, 49, 12, 47, 18, 4, 45, 22, 48, 32, 0, 30, 46, 41, 33, 31, 5]\n"
     ]
    }
   ],
   "source": [
    "# Calculate initial distance of randomly suffled tour\n",
    "\n",
    "distance = 0.0\n",
    "for i in range(len(tour)-1):\n",
    "    distance += haversine(airports['latitude'][tour[i]],airports['longitude'][tour[i]],\n",
    "                          airports['latitude'][tour[i+1]],airports['longitude'][tour[i+1]])\n",
    "    \n",
    "    distance += haversine(airports['latitude'][tour[len(tour)-1]],airports['longitude'][tour[len(tour)-1]],\n",
    "                          airports['latitude'][tour[0]],airports['longitude'][tour[0]])\n",
    "\n",
    "print(distance,tour)"
   ]
  },
  {
   "cell_type": "code",
   "execution_count": 43,
   "metadata": {},
   "outputs": [],
   "source": [
    "# Simulated Annealing\n",
    "\n",
    "temp = open('temp.csv','w')\n",
    "dist = open('distance.csv','w')\n",
    "\n",
    "# counter counts number of iterations, T is initial temperature, cooling_rate is the cooling rate, T_stop is final temperature to end loop\n",
    "counter = 1\n",
    "T = 0.1\n",
    "cooling_rate = .9999\n",
    "c = tour\n",
    "T_stop = 0.000001\n",
    "\n",
    "while T > T_stop:\n",
    "    \n",
    "    dist.write(\"%d, %f\\n\" % (counter,distance))\n",
    "    temp.write(\"%d, %f\\n\" % (counter,T))\n",
    "        \n",
    "    d = 0.0\n",
    "\n",
    "# Randomly switch two airports on tour list\n",
    "    \n",
    "    a = random.randint(0,len(tour)-1)\n",
    "    b = random.randint(0,len(tour)-1)\n",
    "    c[b],c[a] = c[a],c[b]\n",
    "    \n",
    "    for i in range(len(c)-1):\n",
    "        d += haversine(airports['latitude'][c[i]],airports['longitude'][c[i]],\n",
    "                          airports['latitude'][c[i+1]],airports['longitude'][c[i+1]])\n",
    "    \n",
    "    d += haversine(airports['latitude'][c[len(c)-1]],airports['longitude'][c[len(c)-1]],\n",
    "                          airports['latitude'][c[0]],airports['longitude'][c[0]])\n",
    "    \n",
    "# Accept new tour if shorter undconditionally    \n",
    "    if d < distance:\n",
    "        tour = c\n",
    "        distance = d\n",
    "# Annealling function\n",
    "# If exp(-cost/temperature) is greater than some random number, accept new tour.  \n",
    "    else: \n",
    "        Cost = (d-distance)/distance\n",
    "        P = math.exp(-Cost/T)\n",
    "        R = random.random()\n",
    "        if P > R:\n",
    "            tour = c\n",
    "            distance = d\n",
    "# Otherwise, undo changes and try again\n",
    "        else: c[b],c[a] = c[a],c[b]\n",
    "\n",
    "  \n",
    "        \n",
    "\n",
    "# Cool and update counter    \n",
    "    T = T*cooling_rate\n",
    "    counter += 1\n",
    "    \n",
    "temp.close()\n",
    "dist.close()"
   ]
  },
  {
   "cell_type": "code",
   "execution_count": 52,
   "metadata": {},
   "outputs": [],
   "source": [
    "t = pd.read_csv('temp.csv',sep=',',header=None)\n",
    "cooling = pd.read_csv('distance.csv',sep=',',header=None)"
   ]
  },
  {
   "cell_type": "code",
   "execution_count": 53,
   "metadata": {},
   "outputs": [
    {
     "data": {
      "text/plain": [
       "Text(0.5,1,'Temperature Coooling')"
      ]
     },
     "execution_count": 53,
     "metadata": {},
     "output_type": "execute_result"
    },
    {
     "data": {
      "image/png": "[encoded data removed]",
      "text/plain": [
       "<Figure size 432x288 with 1 Axes>"
      ]
     },
     "metadata": {},
     "output_type": "display_data"
    }
   ],
   "source": [
    "plt.plot(t[0],t[1])\n",
    "plt.xlabel('iterations')\n",
    "plt.ylabel('termperature')\n",
    "plt.title('Temperature Coooling')"
   ]
  },
  {
   "cell_type": "code",
   "execution_count": 54,
   "metadata": {},
   "outputs": [
    {
     "data": {
      "text/plain": [
       "Text(0.5,1,'Distance of Tour')"
      ]
     },
     "execution_count": 54,
     "metadata": {},
     "output_type": "execute_result"
    },
    {
     "data": {
      "image/png": "[encoded data removed]",
      "text/plain": [
       "<Figure size 432x288 with 1 Axes>"
      ]
     },
     "metadata": {},
     "output_type": "display_data"
    }
   ],
   "source": [
    "plt.plot(cooling[0],cooling[1])\n",
    "plt.xlabel('iterations')\n",
    "plt.ylabel('distance')\n",
    "plt.title('Distance of Tour')"
   ]
  },
  {
   "cell_type": "code",
   "execution_count": 47,
   "metadata": {},
   "outputs": [
    {
     "name": "stdout",
     "output_type": "stream",
     "text": [
      "18202.114649721574\n",
      "Honolulu, HI\n",
      "Sacramento, CA\n",
      "Reno, NV\n",
      "Boise, ID\n",
      "Salt Lake City, UT\n",
      "Lincoln, NE\n",
      "Saint Paul, MN\n",
      "Madison, WI\n",
      "Lansing, MI\n",
      "Albany, NY\n",
      "Montpelier, VT\n",
      "Augusta, ME\n",
      "Concord, NH\n",
      "Boston, MA\n",
      "Providence, RI\n",
      "Hartford, CT\n",
      "Nashville, TN\n",
      "Montgomery, AL\n",
      "Tallahassee, FL\n",
      "Atlanta, GA\n",
      "Columbia, SC\n",
      "Raleigh, NC\n",
      "Richmond, VA\n",
      "Washington, DC\n",
      "Baltimore, MD\n",
      "Dover, DE\n",
      "Trenton, NJ\n",
      "Harrisburg, PA\n",
      "Charleston, WV\n",
      "Columbus, OH\n",
      "Lexington, KY\n",
      "Indianapolis, IN\n",
      "Springfield, IL\n",
      "Jefferson, MO\n",
      "Des Moines, IA\n",
      "Topeka, KS\n",
      "Oklahoma City, OK\n",
      "Little Rock, AR\n",
      "Jackson, MS\n",
      "Baton Rouge, LA\n",
      "Austin, TX\n",
      "Phoenix, AZ\n",
      "Santa Fe, NM\n",
      "Denver, CO\n",
      "Cheyenne, WY\n",
      "Pierre, SD\n",
      "Bismarck, ND\n",
      "Helena, MT\n",
      "Salem, OR\n",
      "Olympia, WA\n",
      "Juneau, AK\n",
      "Honolulu, HI\n"
     ]
    }
   ],
   "source": [
    "print(distance)\n",
    "for t in tour:\n",
    "    print(\"%s, %s\" % (airports['city'][t],airports['state'][t]))\n",
    "print(\"%s, %s\" % (airports['city'][tour[0]],airports['state'][tour[0]]))"
   ]
  },
  {
   "cell_type": "code",
   "execution_count": 166,
   "metadata": {},
   "outputs": [
    {
     "ename": "ModuleNotFoundError",
     "evalue": "No module named 'mpl_toolkits.basemap'",
     "output_type": "error",
     "traceback": [
      "\u001b[0;31m---------------------------------------------------------------------------\u001b[0m",
      "\u001b[0;31mModuleNotFoundError\u001b[0m                       Traceback (most recent call last)",
      "\u001b[0;32m<ipython-input-166-d9467465a3b6>\u001b[0m in \u001b[0;36m<module>\u001b[0;34m()\u001b[0m\n\u001b[0;32m----> 1\u001b[0;31m \u001b[0;32mfrom\u001b[0m \u001b[0mmpl_toolkits\u001b[0m\u001b[0;34m.\u001b[0m\u001b[0mbasemap\u001b[0m \u001b[0;32mimport\u001b[0m \u001b[0mBasemap\u001b[0m\u001b[0;34m\u001b[0m\u001b[0m\n\u001b[0m",
      "\u001b[0;31mModuleNotFoundError\u001b[0m: No module named 'mpl_toolkits.basemap'"
     ]
    }
   ],
   "source": [
    "from mpl_toolkits.basemap import Basemap"
   ]
  },
  {
   "cell_type": "code",
   "execution_count": 164,
   "metadata": {},
   "outputs": [
    {
     "ename": "NameError",
     "evalue": "name 'Basemap' is not defined",
     "output_type": "error",
     "traceback": [
      "\u001b[0;31m---------------------------------------------------------------------------\u001b[0m",
      "\u001b[0;31mNameError\u001b[0m                                 Traceback (most recent call last)",
      "\u001b[0;32m<ipython-input-164-2f7cbbaa4ce0>\u001b[0m in \u001b[0;36m<module>\u001b[0;34m()\u001b[0m\n\u001b[0;32m----> 1\u001b[0;31m \u001b[0mm\u001b[0m\u001b[0;34m=\u001b[0m\u001b[0mBasemap\u001b[0m\u001b[0;34m(\u001b[0m\u001b[0mllcrnrlon\u001b[0m\u001b[0;34m=\u001b[0m\u001b[0;34m-\u001b[0m\u001b[0;36m100\u001b[0m\u001b[0;34m,\u001b[0m \u001b[0mllcrnrlat\u001b[0m\u001b[0;34m=\u001b[0m\u001b[0;36m20\u001b[0m\u001b[0;34m,\u001b[0m\u001b[0murcrnrlon\u001b[0m\u001b[0;34m=\u001b[0m\u001b[0;36m30\u001b[0m\u001b[0;34m,\u001b[0m\u001b[0murcrnrlat\u001b[0m\u001b[0;34m=\u001b[0m\u001b[0;36m70\u001b[0m\u001b[0;34m)\u001b[0m\u001b[0;34m\u001b[0m\u001b[0m\n\u001b[0m\u001b[1;32m      2\u001b[0m \u001b[0mm\u001b[0m\u001b[0;34m.\u001b[0m\u001b[0mdrawmapboundary\u001b[0m\u001b[0;34m(\u001b[0m\u001b[0mfill_color\u001b[0m\u001b[0;34m=\u001b[0m\u001b[0;34m'#A6CAE0'\u001b[0m\u001b[0;34m,\u001b[0m \u001b[0mlinewidth\u001b[0m\u001b[0;34m=\u001b[0m\u001b[0;36m0\u001b[0m\u001b[0;34m)\u001b[0m\u001b[0;34m\u001b[0m\u001b[0m\n\u001b[1;32m      3\u001b[0m \u001b[0mm\u001b[0m\u001b[0;34m.\u001b[0m\u001b[0mfillcontinents\u001b[0m\u001b[0;34m(\u001b[0m\u001b[0mcolor\u001b[0m\u001b[0;34m=\u001b[0m\u001b[0;34m'grey'\u001b[0m\u001b[0;34m,\u001b[0m \u001b[0malpha\u001b[0m\u001b[0;34m=\u001b[0m\u001b[0;36m0.7\u001b[0m\u001b[0;34m,\u001b[0m \u001b[0mlake_color\u001b[0m\u001b[0;34m=\u001b[0m\u001b[0;34m'grey'\u001b[0m\u001b[0;34m)\u001b[0m\u001b[0;34m\u001b[0m\u001b[0m\n\u001b[1;32m      4\u001b[0m \u001b[0mm\u001b[0m\u001b[0;34m.\u001b[0m\u001b[0mdrawcoastlines\u001b[0m\u001b[0;34m(\u001b[0m\u001b[0mlinewidth\u001b[0m\u001b[0;34m=\u001b[0m\u001b[0;36m0.1\u001b[0m\u001b[0;34m,\u001b[0m \u001b[0mcolor\u001b[0m\u001b[0;34m=\u001b[0m\u001b[0;34m\"white\"\u001b[0m\u001b[0;34m)\u001b[0m\u001b[0;34m\u001b[0m\u001b[0m\n\u001b[1;32m      5\u001b[0m \u001b[0mm\u001b[0m\u001b[0;34m\u001b[0m\u001b[0m\n",
      "\u001b[0;31mNameError\u001b[0m: name 'Basemap' is not defined"
     ]
    }
   ],
   "source": [
    "m=Basemap(llcrnrlon=-100, llcrnrlat=20,urcrnrlon=30,urcrnrlat=70)\n",
    "m.drawmapboundary(fill_color='#A6CAE0', linewidth=0)\n",
    "m.fillcontinents(color='grey', alpha=0.7, lake_color='grey')\n",
    "m.drawcoastlines(linewidth=0.1, color=\"white\")\n",
    "m"
   ]
  },
  {
   "cell_type": "code",
   "execution_count": null,
   "metadata": {},
   "outputs": [],
   "source": []
  }
 ],
 "metadata": {
  "kernelspec": {
   "display_name": "Python 3",
   "language": "python",
   "name": "python3"
  },
  "language_info": {
   "codemirror_mode": {
    "name": "ipython",
    "version": 3
   },
   "file_extension": ".py",
   "mimetype": "text/x-python",
   "name": "python",
   "nbconvert_exporter": "python",
   "pygments_lexer": "ipython3",
   "version": "3.6.4"
  }
 },
 "nbformat": 4,
 "nbformat_minor": 2
}
