{
 "cells": [
  {
   "cell_type": "code",
   "execution_count": 29,
   "metadata": {},
   "outputs": [],
   "source": [
    "# import libraries\n",
    "\n",
    "import pandas as pd\n",
    "import math\n",
    "import random\n",
    "import csv\n",
    "import matplotlib.pyplot as plt\n",
    "%matplotlib inline "
   ]
  },
  {
   "cell_type": "code",
   "execution_count": 30,
   "metadata": {},
   "outputs": [],
   "source": [
    "# Load csv of US state capitol airport locations\n",
    "\n",
    "airports = pd.read_csv('airports.csv', sep=',')"
   ]
  },
  {
   "cell_type": "code",
   "execution_count": 31,
   "metadata": {},
   "outputs": [],
   "source": [
    "airports['n/s'].replace('N',1.0,inplace=True)\n",
    "airports['n/s'].replace('S',-1.0,inplace=True)\n",
    "airports['e/w'].replace('E',1.0,inplace=True)\n",
    "airports['e/w'].replace('W',-1.0,inplace=True)"
   ]
  },
  {
   "cell_type": "code",
   "execution_count": 32,
   "metadata": {},
   "outputs": [],
   "source": [
    "def coor_to_radians(degrees,minutes,seconds,hem):\n",
    "    return (degrees + minutes/60.0 + seconds/3600.0)*hem*math.pi/180 "
   ]
  },
  {
   "cell_type": "code",
   "execution_count": 33,
   "metadata": {},
   "outputs": [],
   "source": [
    "# Convert coordinates to radians for each airport\n",
    "\n",
    "airports['latitude'] = coor_to_radians(airports['lat_deg'],airports['lat_min'],airports['lat_sec'],airports['n/s'])\n",
    "airports['longitude'] = coor_to_radians(airports['lon_deg'],airports['lon_min'],airports['lon_sec'],airports['e/w'])"
   ]
  },
  {
   "cell_type": "code",
   "execution_count": 34,
   "metadata": {},
   "outputs": [],
   "source": [
    "# Haversine function converts coordinates to cacluate great circle distance.  Radius of Earch is 3959 miles\n",
    "\n",
    "def haversine(phi1,lambda1,phi2,lambda2):\n",
    "    return 2*3959.0*math.asin(math.sqrt(hav(phi2-phi1)+math.cos(phi1)*math.cos(phi2)*hav(lambda2-lambda1)))"
   ]
  },
  {
   "cell_type": "code",
   "execution_count": 35,
   "metadata": {},
   "outputs": [],
   "source": [
    "def hav(theta):\n",
    "    return (1.0 - math.cos(theta))/2.0"
   ]
  },
  {
   "cell_type": "code",
   "execution_count": 36,
   "metadata": {},
   "outputs": [],
   "source": [
    "# Create list of indexes and randomly shuffle list\n",
    "\n",
    "tour = list(airports.index)\n",
    "random.shuffle(tour)"
   ]
  },
  {
   "cell_type": "code",
   "execution_count": 37,
   "metadata": {},
   "outputs": [
    {
     "name": "stdout",
     "output_type": "stream",
     "text": [
      "Length of initial tour: 118026 miles\n",
      "Hartford, CT\n",
      "Lincoln, NE\n",
      "Columbus, OH\n",
      "Dover, DE\n",
      "Denver, CO\n",
      "Helena, MT\n",
      "Nashville, TN\n",
      "Oklahoma City, OK\n",
      "Concord, NH\n",
      "Cheyenne, WY\n",
      "Salt Lake City, UT\n",
      "Boston, MA\n",
      "Raleigh, NC\n",
      "Indianapolis, IN\n",
      "Charleston, WV\n",
      "Augusta, ME\n",
      "Washington, DC\n",
      "Providence, RI\n",
      "Baltimore, MD\n",
      "Montgomery, AL\n",
      "Reno, NV\n",
      "Lansing, MI\n",
      "Austin, TX\n",
      "Harrisburg, PA\n",
      "Lexington, KY\n",
      "Santa Fe, NM\n",
      "Tallahassee, FL\n",
      "Columbia, SC\n",
      "Montpelier, VT\n",
      "Richmond, VA\n",
      "Honolulu, HI\n",
      "Pierre, SD\n",
      "Atlanta, GA\n",
      "Salem, OR\n",
      "Springfield, IL\n",
      "Sacramento, CA\n",
      "Des Moines, IA\n",
      "Jefferson, MO\n",
      "Boise, ID\n",
      "Bismarck, ND\n",
      "Juneau, AK\n",
      "Phoenix, AZ\n",
      "Madison, WI\n",
      "Jackson, MS\n",
      "Albany, NY\n",
      "Olympia, WA\n",
      "Topeka, KS\n",
      "Trenton, NJ\n",
      "Saint Paul, MN\n",
      "Baton Rouge, LA\n",
      "Little Rock, AR\n",
      "Hartford, CT\n"
     ]
    }
   ],
   "source": [
    "# Calculate initial distance of randomly suffled tour\n",
    "\n",
    "distance = 0.0\n",
    "for i in range(len(tour)-1):\n",
    "    distance += haversine(airports['latitude'][tour[i]],airports['longitude'][tour[i]],\n",
    "                          airports['latitude'][tour[i+1]],airports['longitude'][tour[i+1]])\n",
    "    \n",
    "    distance += haversine(airports['latitude'][tour[len(tour)-1]],airports['longitude'][tour[len(tour)-1]],\n",
    "                          airports['latitude'][tour[0]],airports['longitude'][tour[0]])\n",
    "\n",
    "print('Length of initial tour: %d miles' %distance)\n",
    "for t in tour:\n",
    "    print(\"%s, %s\" % (airports['city'][t],airports['state'][t]))\n",
    "print(\"%s, %s\" % (airports['city'][tour[0]],airports['state'][tour[0]]))"
   ]
  },
  {
   "cell_type": "code",
   "execution_count": 43,
   "metadata": {},
   "outputs": [],
   "source": [
    "# Simulated Annealing\n",
    "\n",
    "temp = open('temp.csv','w')\n",
    "dist = open('distance.csv','w')\n",
    "\n",
    "# counter counts number of iterations, T is initial temperature, \n",
    "# cooling_rate is the cooling rate, T_stop is final temperature to end loop\n",
    "counter = 1\n",
    "T = 0.1\n",
    "cooling_rate = .99999\n",
    "c = tour\n",
    "T_stop = 0.001\n",
    "\n",
    "while T > T_stop:\n",
    "    \n",
    "    dist.write(\"%d, %f\\n\" % (counter,distance))\n",
    "    temp.write(\"%d, %f\\n\" % (counter,T))\n",
    "        \n",
    "    d = 0.0\n",
    "\n",
    "# Randomly switch two airports on tour list\n",
    "    \n",
    "    a = random.randint(0,len(tour)-1)\n",
    "    b = random.randint(0,len(tour)-1)\n",
    "    c[b],c[a] = c[a],c[b]\n",
    "    \n",
    "    for i in range(len(c)-1):\n",
    "        d += haversine(airports['latitude'][c[i]],airports['longitude'][c[i]],\n",
    "                          airports['latitude'][c[i+1]],airports['longitude'][c[i+1]])\n",
    "    \n",
    "    d += haversine(airports['latitude'][c[len(c)-1]],airports['longitude'][c[len(c)-1]],\n",
    "                          airports['latitude'][c[0]],airports['longitude'][c[0]])\n",
    "    \n",
    "# Accept new tour if shorter undconditionally    \n",
    "    if d < distance:\n",
    "        tour = c\n",
    "        distance = d\n",
    "# Annealling function\n",
    "# If exp(-cost/temperature) is greater than some random number, accept new tour.  \n",
    "    else: \n",
    "        Cost = (d-distance)/distance\n",
    "        P = math.exp(-Cost/T)\n",
    "        R = random.random()\n",
    "        if P > R:\n",
    "            tour = c\n",
    "            distance = d\n",
    "# Otherwise, undo changes and try again\n",
    "        else: c[b],c[a] = c[a],c[b]\n",
    "\n",
    "# Cool and update counter    \n",
    "    T = T*cooling_rate\n",
    "    counter += 1\n",
    "    \n",
    "temp.close()\n",
    "dist.close()"
   ]
  },
  {
   "cell_type": "code",
   "execution_count": 44,
   "metadata": {},
   "outputs": [],
   "source": [
    "t = pd.read_csv('temp.csv',sep=',',header=None)\n",
    "cooling = pd.read_csv('distance.csv',sep=',',header=None)"
   ]
  },
  {
   "cell_type": "code",
   "execution_count": 45,
   "metadata": {},
   "outputs": [
    {
     "data": {
      "text/plain": [
       "Text(0.5,1,'Temperature Coooling')"
      ]
     },
     "execution_count": 45,
     "metadata": {},
     "output_type": "execute_result"
    },
    {
     "data": {
      "image/png": "[encoded data removed]",
      "text/plain": [
       "<Figure size 432x288 with 1 Axes>"
      ]
     },
     "metadata": {},
     "output_type": "display_data"
    }
   ],
   "source": [
    "plt.plot(t[0],t[1])\n",
    "plt.xlabel('iterations')\n",
    "plt.ylabel('termperature')\n",
    "plt.title('Temperature Coooling')"
   ]
  },
  {
   "cell_type": "code",
   "execution_count": 46,
   "metadata": {},
   "outputs": [
    {
     "data": {
      "text/plain": [
       "Text(0.5,1,'Distance of Tour')"
      ]
     },
     "execution_count": 46,
     "metadata": {},
     "output_type": "execute_result"
    },
    {
     "data": {
      "image/png": "[encoded data removed]",
      "text/plain": [
       "<Figure size 432x288 with 1 Axes>"
      ]
     },
     "metadata": {},
     "output_type": "display_data"
    }
   ],
   "source": [
    "plt.plot(cooling[0],cooling[1])\n",
    "plt.xlabel('iterations')\n",
    "plt.ylabel('distance')\n",
    "plt.title('Distance of Tour')"
   ]
  },
  {
   "cell_type": "code",
   "execution_count": 47,
   "metadata": {},
   "outputs": [
    {
     "name": "stdout",
     "output_type": "stream",
     "text": [
      "Length of Tour: 17144 miles\n",
      "Charleston, WV\n",
      "Columbus, OH\n",
      "Lansing, MI\n",
      "Madison, WI\n",
      "Saint Paul, MN\n",
      "Bismarck, ND\n",
      "Pierre, SD\n",
      "Cheyenne, WY\n",
      "Denver, CO\n",
      "Helena, MT\n",
      "Reno, NV\n",
      "Sacramento, CA\n",
      "Honolulu, HI\n",
      "Juneau, AK\n",
      "Olympia, WA\n",
      "Salem, OR\n",
      "Boise, ID\n",
      "Salt Lake City, UT\n",
      "Phoenix, AZ\n",
      "Santa Fe, NM\n",
      "Oklahoma City, OK\n",
      "Austin, TX\n",
      "Baton Rouge, LA\n",
      "Jackson, MS\n",
      "Montgomery, AL\n",
      "Tallahassee, FL\n",
      "Columbia, SC\n",
      "Atlanta, GA\n",
      "Nashville, TN\n",
      "Little Rock, AR\n",
      "Jefferson, MO\n",
      "Topeka, KS\n",
      "Lincoln, NE\n",
      "Des Moines, IA\n",
      "Springfield, IL\n",
      "Indianapolis, IN\n",
      "Lexington, KY\n",
      "Raleigh, NC\n",
      "Richmond, VA\n",
      "Washington, DC\n",
      "Baltimore, MD\n",
      "Dover, DE\n",
      "Albany, NY\n",
      "Montpelier, VT\n",
      "Concord, NH\n",
      "Augusta, ME\n",
      "Boston, MA\n",
      "Providence, RI\n",
      "Hartford, CT\n",
      "Trenton, NJ\n",
      "Harrisburg, PA\n",
      "Charleston, WV\n"
     ]
    }
   ],
   "source": [
    "print('Length of Tour: %d miles' % distance)\n",
    "for t in tour:\n",
    "    print(\"%s, %s\" % (airports['city'][t],airports['state'][t]))\n",
    "print(\"%s, %s\" % (airports['city'][tour[0]],airports['state'][tour[0]]))"
   ]
  }
 ],
 "metadata": {
  "kernelspec": {
   "display_name": "Python 3",
   "language": "python",
   "name": "python3"
  },
  "language_info": {
   "codemirror_mode": {
    "name": "ipython",
    "version": 3
   },
   "file_extension": ".py",
   "mimetype": "text/x-python",
   "name": "python",
   "nbconvert_exporter": "python",
   "pygments_lexer": "ipython3",
   "version": "3.6.4"
  }
 },
 "nbformat": 4,
 "nbformat_minor": 2
}
